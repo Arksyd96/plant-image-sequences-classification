{
  "cells": [
    {
      "cell_type": "code",
      "execution_count": 14,
      "metadata": {
        "colab": {
          "base_uri": "https://localhost:8080/"
        },
        "id": "9Z9wCyTqpl-C",
        "outputId": "bebc3db8-66b9-4a2f-cd92-d2f1c61e1e42"
      },
      "outputs": [
        {
          "name": "stdout",
          "output_type": "stream",
          "text": [
            "/content/drive/MyDrive/0.CV/0.plant_classification\n"
          ]
        }
      ],
      "source": [
        "%cd /content/drive/MyDrive/0.CV/0.plant_classification"
      ]
    },
    {
      "cell_type": "code",
      "execution_count": 15,
      "metadata": {
        "id": "y16nI0WsDEUl"
      },
      "outputs": [],
      "source": [
        "# !wget https://www.robots.ox.ac.uk/~vgg/data/pets/data/images.tar.gz -P pets\n",
        "# !tar zxf pets/images.tar.gz -C pets"
      ]
    },
    {
      "cell_type": "code",
      "execution_count": 35,
      "metadata": {
        "colab": {
          "base_uri": "https://localhost:8080/"
        },
        "id": "fqLIAF6SOxu8",
        "outputId": "52165abc-1b4d-4ac9-8689-36e3c6fd1ace"
      },
      "outputs": [
        {
          "name": "stdout",
          "output_type": "stream",
          "text": [
            "--2022-08-06 08:17:47--  https://s3.amazonaws.com/fast-ai-imageclas/imagenette2-320.tgz\n",
            "Resolving s3.amazonaws.com (s3.amazonaws.com)... 52.216.238.109\n",
            "Connecting to s3.amazonaws.com (s3.amazonaws.com)|52.216.238.109|:443... connected.\n",
            "HTTP request sent, awaiting response... 200 OK\n",
            "Length: 341663724 (326M) [application/x-tar]\n",
            "Saving to: ‘imagenette/imagenette2-320.tgz’\n",
            "\n",
            "imagenette2-320.tgz 100%[===================>] 325.83M  15.4MB/s    in 24s     \n",
            "\n",
            "2022-08-06 08:18:11 (13.7 MB/s) - ‘imagenette/imagenette2-320.tgz’ saved [341663724/341663724]\n",
            "\n"
          ]
        }
      ],
      "source": [
        "!wget https://s3.amazonaws.com/fast-ai-imageclas/imagenette2-320.tgz -P imagenette\n",
        "!tar zxf imagenette/imagenette2-320.tgz -C imagenette\n",
        "!gzip -d imagenette/imagenette2-320.tgz"
      ]
    },
    {
      "cell_type": "markdown",
      "metadata": {
        "id": "UJz11RbppqSE"
      },
      "source": [
        "## Importing Libraries"
      ]
    },
    {
      "cell_type": "code",
      "execution_count": 16,
      "metadata": {
        "id": "a-gvxA0q9vCY"
      },
      "outputs": [],
      "source": [
        "# !pip install --quiet optuna timm"
      ]
    },
    {
      "cell_type": "code",
      "execution_count": 17,
      "metadata": {
        "id": "_iWpB81CoSdp"
      },
      "outputs": [],
      "source": [
        "import os\n",
        "import re\n",
        "import cv2\n",
        "import sys\n",
        "import glob\n",
        "import random\n",
        "import numpy as np\n",
        "import pandas as pd\n",
        "from pathlib import Path\n",
        "\n",
        "import timm\n",
        "import torch\n",
        "import optuna\n",
        "from optuna.trial import TrialState\n",
        "import torch\n",
        "import torch.nn as nn\n",
        "import torch.nn.functional as F\n",
        "import torch.optim as optim\n",
        "import torch.utils.data\n",
        "from torchvision import datasets\n",
        "from torchvision import transforms"
      ]
    },
    {
      "cell_type": "code",
      "execution_count": 18,
      "metadata": {
        "id": "mVol0f2a6p9u"
      },
      "outputs": [],
      "source": [
        "from pathlib import Path\n",
        "from timm.data import ImageDataset\n",
        "from torch.utils.data import DataLoader\n",
        "from timm.data.parsers.parser import Parser\n",
        "from timm.data.transforms_factory import create_transform \n",
        "\n",
        "# Update the DataLoader according to out dataset\n",
        "class ParserImageName(Parser):\n",
        "    def __init__(self, root, class_to_idx=None):\n",
        "        super().__init__()\n",
        "\n",
        "        self.root = Path(root)\n",
        "        self.samples = list(self.root.glob(\"*.jpg\"))\n",
        "\n",
        "        if class_to_idx:\n",
        "            self.class_to_idx = class_to_idx\n",
        "        else:\n",
        "            classes = sorted(\n",
        "                set([self.__extract_label_from_path(p) for p in self.samples]),\n",
        "                key=lambda s: s.lower(),\n",
        "            )\n",
        "            self.class_to_idx = {c: idx for idx, c in enumerate(classes)}\n",
        "\n",
        "    def __extract_label_from_path(self, path):\n",
        "        return \"_\".join(path.parts[-1].split(\"_\")[0:-1])\n",
        "\n",
        "    def __getitem__(self, index):\n",
        "        path = self.samples[index]\n",
        "        target = self.class_to_idx[self.__extract_label_from_path(path)]\n",
        "        return open(path, \"rb\"), target\n",
        "\n",
        "    def __len__(self):\n",
        "        return len(self.samples)\n",
        "\n",
        "    def _filename(self, index, basename=False, absolute=False):\n",
        "        filename = self.samples[index][0]\n",
        "        if basename:\n",
        "            filename = filename.parts[-1]\n",
        "        elif not absolute:\n",
        "            filename = filename.absolute()\n",
        "        return filename"
      ]
    },
    {
      "cell_type": "code",
      "execution_count": 30,
      "metadata": {
        "id": "QsfzjkkhJxWy"
      },
      "outputs": [],
      "source": [
        "import argparse\n",
        "from pathlib import Path\n",
        "\n",
        "import timm\n",
        "import timm.data\n",
        "import timm.loss\n",
        "import timm.optim\n",
        "import timm.utils\n",
        "import torch\n",
        "# import torchmetrics\n",
        "from timm.scheduler import CosineLRScheduler\n",
        "\n",
        "# from pytorch_accelerated.callbacks import SaveBestModelCallback\n",
        "# from pytorch_accelerated.trainer import Trainer, DEFAULT_CALLBACKS\n",
        "\n",
        "def create_datasets(image_size, data_mean, data_std, train_path, val_path):\n",
        "    train_transforms = timm.data.create_transform(\n",
        "        input_size=image_size,\n",
        "        is_training=True,\n",
        "        mean=data_mean,\n",
        "        std=data_std,\n",
        "        auto_augment=\"rand-m7-mstd0.5-inc1\",\n",
        "    )\n",
        "\n",
        "    eval_transforms = timm.data.create_transform(\n",
        "        input_size=image_size, mean=data_mean, std=data_std\n",
        "    )\n",
        "\n",
        "    train_dataset = timm.data.dataset.ImageDataset(\n",
        "        train_path, transform=train_transforms\n",
        "    )\n",
        "    eval_dataset = timm.data.dataset.ImageDataset(val_path, transform=eval_transforms)\n",
        "\n",
        "    return train_dataset, eval_dataset\n",
        "\n",
        "\n"
      ]
    },
    {
      "cell_type": "code",
      "execution_count": 61,
      "metadata": {
        "id": "zA61x-XL6kqM"
      },
      "outputs": [],
      "source": [
        "\n",
        "# https://github.com/optuna/optuna-examples/blob/main/pytorch/pytorch_simple.py\n",
        "import timm\n",
        "import inspect\n",
        "import timm.optim\n",
        "\n",
        "\n",
        " # Set training arguments, hardcoded here for clarity\n",
        "IMAGE_SIZE = (224, 224)\n",
        "\n",
        "\n",
        "DEVICE = torch.device(\"cuda\")\n",
        "BATCHSIZE = [2, 4, 8, 16, 32]\n",
        "\n",
        "data_path = Path('imagenette/imagenette2-320')\n",
        "# dataset = ImageDataset(str(data_path), parser=ParserImageName(data_path))\n",
        "\n",
        "\n",
        "\n",
        "DIR = os.getcwd()\n",
        "EPOCHS = 10\n",
        "\n",
        "data_path = Path(data_path)\n",
        "TRAIN_PATH = data_path / \"train\"\n",
        "VAL_PATH = data_path / \"val\"\n",
        "\n",
        "smoothing = 0.1\n",
        "mixup = 0.2\n",
        "cutmix = 1.0\n",
        "\n",
        "CLASSES = len(list(TRAIN_PATH.iterdir())) #len(dataset.parser.class_to_idx)\n",
        "\n",
        "mixup_args = dict(\n",
        "    mixup_alpha=mixup,\n",
        "    cutmix_alpha=cutmix,\n",
        "    label_smoothing=smoothing,\n",
        "    num_classes=CLASSES,\n",
        ")\n",
        "\n",
        "N_TRAIN_EXAMPLES = 25000\n",
        "N_VALID_EXAMPLES =  2500\n",
        "\n",
        " \n",
        "EXPERIMENT_MODELS = [\n",
        "                    # base models\n",
        "                    \"inception_v3\" , \"xception\",\"densenet201\",\n",
        "                    #  base model improvements\n",
        "                    \"resnet200d_320\", \"resnext50_32x4d\", \"resnext101_32x8d\",\n",
        "                    # efficient net models\n",
        "                    \"efficientnet_b4\",\"efficientnet_b3\", \n",
        "                    #  Transformer models\n",
        "                     \"deit_base_patch16_384\", \"vit_large_patch16_384\" ]\n",
        "\n",
        "POOL_TYPES  = ['avg', 'max', 'avgmax', 'catavgmax']\n",
        "\n",
        "EXPERIMENT_OPTIMIZERS = [cls_name for cls_name, cls_obj in inspect.getmembers(timm.optim) if inspect.isclass(cls_obj) if cls_name !='Lookahead']\n",
        "\n",
        "def build_predictor(model_name: str, pretrained=True, num_classes=CLASSES, in_chans=3):\n",
        "    try:\n",
        "        # normal configuration. train all parameters.\n",
        "        return timm.create_model(model_name, pretrained=pretrained, num_classes=num_classes, in_chans=in_chans)\n",
        "    except:\n",
        "        raise ValueError(f\"[ERROR] Unexpected value model_mode={model_name}\")\n",
        "\n",
        "\n",
        "def define_model(trial):\n",
        "    # We optimize the number of layers, hidden units and dropout ratio in each layer.\n",
        "    model_name = trial.suggest_categorical(\"model\", EXPERIMENT_MODELS)\n",
        "    pool_type = trial.suggest_categorical(\"pool_type\", POOL_TYPES)\n",
        "    # activation type ?\n",
        "    model = build_predictor(model_name)\n",
        "    n_layers = trial.suggest_int(\"n_layers\", 1, 3)\n",
        "    layers = []\n",
        "\n",
        "    in_features = model.get_classifier().in_features\n",
        "    for i in range(n_layers):\n",
        "        out_features = trial.suggest_int(\"n_units_l{}\".format(i), 4, 128)\n",
        "\n",
        "        layers.append(nn.BatchNorm1d(in_features))\n",
        "        layers.append(nn.Linear(in_features, out_features))\n",
        "        layers.append(nn.ReLU())\n",
        "        layers.append(nn.BatchNorm1d(out_features))\n",
        "\n",
        "        p = trial.suggest_float(\"dropout_l{}\".format(i), 0.2, 0.5)\n",
        "\n",
        "        layers.append(nn.Dropout(p))\n",
        "\n",
        "        in_features = out_features\n",
        "    layers.append(nn.Linear(in_features, CLASSES))\n",
        "    layers.append(nn.LogSoftmax(dim=1))\n",
        "    model.fc =  nn.Sequential(*layers)\n",
        "    return model\n",
        "\n",
        "\n",
        "# def get_data():\n",
        "#     # Load FashionMNIST dataset.\n",
        "\n",
        "#     train_loader = torch.utils.data.DataLoader(\n",
        "#         dataset[:N_TRAIN_EXAMPLES],\n",
        "#         batch_size=BATCHSIZE,\n",
        "#         shuffle=True,\n",
        "#     )\n",
        "#     valid_loader = torch.utils.data.DataLoader(\n",
        "#         dataset[N_TRAIN_EXAMPLES:],\n",
        "#         batch_size=BATCHSIZE,\n",
        "#         shuffle=True,\n",
        "#     )\n",
        "\n",
        "#     return train_loader, valid_loader\n",
        "\n",
        "\n",
        "def objective(trial):\n",
        "\n",
        "    # Generate the model.\n",
        "    model = define_model(trial).to(DEVICE)\n",
        "\n",
        "    # Generate the optimizers.\n",
        "    optimizer_name = trial.suggest_categorical(\"optimizer\", EXPERIMENT_OPTIMIZERS)\n",
        "    lr = trial.suggest_float(\"lr\", 1e-5, 1e-1, log=True)\n",
        "    # optimizer = getattr(optim, optimizer_name)(model.parameters(), lr=lr)\n",
        "    optimizer = timm.optim.create_optimizer_v2(model, opt=optimizer_name, lr=lr)\n",
        "\n",
        "    # Get the FashionMNIST dataset.\n",
        "    # train_loader, valid_loader = get_data()\n",
        "    data_config = timm.data.resolve_data_config({}, model=model, verbose=True)\n",
        "    data_mean = data_config[\"mean\"]\n",
        "    data_std = data_config[\"std\"]\n",
        "\n",
        "    # Create training and validation datasets\n",
        "    train_dataset, eval_dataset = create_datasets(\n",
        "        train_path=TRAIN_PATH,\n",
        "        val_path=VAL_PATH,\n",
        "        image_size=IMAGE_SIZE,\n",
        "        data_mean=data_mean,\n",
        "        data_std=data_std,\n",
        "    )\n",
        "    batch_size = trial.suggest_int(\"batch_size\", 2, 32, step=2, log=False)\n",
        "\n",
        "    train_loader = torch.utils.data.DataLoader(train_dataset,batch_size=batch_size,\n",
        "        shuffle=True)\n",
        "    valid_loader = torch.utils.data.DataLoader(eval_dataset, batch_size=batch_size,\n",
        "        shuffle=True)\n",
        "    # Training of the model.\n",
        "    for epoch in range(EPOCHS):\n",
        "        model.train()\n",
        "        for batch_idx, (data, target) in enumerate(train_loader):\n",
        "            # Limiting training data for faster epochs.\n",
        "            if batch_idx * batch_size >= N_TRAIN_EXAMPLES:\n",
        "                break\n",
        "\n",
        "            data, target = data.to(DEVICE), target.to(DEVICE)\n",
        "\n",
        "            optimizer.zero_grad()\n",
        "            output = model(data)\n",
        "            loss = F.nll_loss(output, target)\n",
        "            loss.backward()\n",
        "            optimizer.step()\n",
        "\n",
        "        # Validation of the model.\n",
        "        model.eval()\n",
        "        correct = 0\n",
        "        with torch.no_grad():\n",
        "            for batch_idx, (data, target) in enumerate(valid_loader):\n",
        "                # Limiting validation data.\n",
        "                if batch_idx * batch_size >= N_VALID_EXAMPLES:\n",
        "                    break\n",
        "                data, target = data.to(DEVICE), target.to(DEVICE)\n",
        "                output = model(data)\n",
        "                # Get the index of the max log-probability.\n",
        "                pred = output.argmax(dim=1, keepdim=True)\n",
        "                correct += pred.eq(target.view_as(pred)).sum().item()\n",
        "\n",
        "        accuracy = correct / min(len(valid_loader.dataset), N_VALID_EXAMPLES)\n",
        "\n",
        "        trial.report(accuracy, epoch)\n",
        "\n",
        "        # Handle pruning based on the intermediate value.\n",
        "        if trial.should_prune():\n",
        "            raise optuna.exceptions.TrialPruned()\n",
        "\n",
        "    return accuracy\n",
        "\n",
        "\n",
        "    "
      ]
    },
    {
      "cell_type": "code",
      "execution_count": 55,
      "metadata": {
        "id": "OWNQM9x1Qywf"
      },
      "outputs": [],
      "source": [
        "\n",
        "train_dataset, eval_dataset = create_datasets(\n",
        "        train_path=TRAIN_PATH,\n",
        "        val_path=VAL_PATH,\n",
        "        image_size=IMAGE_SIZE,\n",
        "        data_mean=(0.485, 0.456, 0.406),\n",
        "        data_std=(0.229, 0.224, 0.225)\n",
        "    )\n",
        "batch_size = 4\n",
        "\n",
        "train_loader = torch.utils.data.DataLoader(train_dataset,batch_size=batch_size,\n",
        "    shuffle=True)\n",
        "valid_loader = torch.utils.data.DataLoader(eval_dataset, batch_size=batch_size,\n",
        "    shuffle=True)"
      ]
    },
    {
      "cell_type": "code",
      "execution_count": 52,
      "metadata": {
        "colab": {
          "base_uri": "https://localhost:8080/",
          "height": 148
        },
        "id": "vDtt8l6dRhUF",
        "outputId": "b8a4611e-0832-4c06-f663-f192e99c8298"
      },
      "outputs": [
        {
          "data": {
            "image/png": "[encoded data removed]",
            "text/plain": [
              "<Figure size 432x288 with 1 Axes>"
            ]
          },
          "metadata": {
            "needs_background": "light"
          },
          "output_type": "display_data"
        }
      ],
      "source": [
        "# Taken from timmdocs https://fastai.github.io/timmdocs/mixup_cutmix\n",
        "\n",
        "import numpy as np\n",
        "import matplotlib.pyplot as plt\n",
        "import torchvision\n",
        "\n",
        "def imshow(inp, title=None):\n",
        "    \"\"\"Imshow for Tensor.\"\"\"\n",
        "    inp = inp.cpu().numpy().transpose((1, 2, 0))\n",
        "    mean = np.array([0.485, 0.456, 0.406])\n",
        "    std = np.array([0.229, 0.224, 0.225])\n",
        "    inp = std * inp + mean\n",
        "    inp = np.clip(inp, 0, 1)\n",
        "    plt.imshow(inp)\n",
        "    if title is not None:\n",
        "        plt.title(title)\n",
        "    plt.pause(0.001)  # pause a bit so that plots are updated\n",
        "\n",
        "dataloader = iter(train_loader)\n",
        "inputs, classes = next(dataloader)\n",
        "out = torchvision.utils.make_grid(inputs)\n",
        "imshow(out, title=[x.item() for x in classes])"
      ]
    },
    {
      "cell_type": "code",
      "execution_count": 62,
      "metadata": {
        "colab": {
          "base_uri": "https://localhost:8080/"
        },
        "id": "ryX1JlvUFCna",
        "outputId": "2712fe35-6a77-4479-dbf6-5bf81d0fa354"
      },
      "outputs": [
        {
          "name": "stderr",
          "output_type": "stream",
          "text": [
            "\u001b[32m[I 2022-08-06 09:17:02,447]\u001b[0m A new study created in memory with name: image_classifier_selection\u001b[0m\n",
            "\u001b[32m[I 2022-08-06 09:56:42,966]\u001b[0m Trial 0 finished with value: 0.0896 and parameters: {'model': 'efficientnet_b4', 'pool_type': 'avg', 'n_layers': 2, 'n_units_l0': 121, 'dropout_l0': 0.40885336216956714, 'n_units_l1': 117, 'dropout_l1': 0.21991740972871646, 'optimizer': 'AdamP', 'lr': 0.0044894407262786205, 'batch_size': 24}. Best is trial 0 with value: 0.0896.\u001b[0m\n"
          ]
        },
        {
          "name": "stdout",
          "output_type": "stream",
          "text": [
            "Study statistics: \n",
            "  Number of finished trials:  1\n",
            "  Number of pruned trials:  0\n",
            "  Number of complete trials:  1\n",
            "Best trial:\n",
            "  Value:  0.0896\n",
            "  Params: \n",
            "    model: efficientnet_b4\n",
            "    pool_type: avg\n",
            "    n_layers: 2\n",
            "    n_units_l0: 121\n",
            "    dropout_l0: 0.40885336216956714\n",
            "    n_units_l1: 117\n",
            "    dropout_l1: 0.21991740972871646\n",
            "    optimizer: AdamP\n",
            "    lr: 0.0044894407262786205\n",
            "    batch_size: 24\n"
          ]
        }
      ],
      "source": [
        "study = optuna.create_study(study_name=\"image_classifier_selection\", direction=\"maximize\")\n",
        "study.optimize(objective, n_trials=100, timeout=1200)\n",
        "\n",
        "pruned_trials = study.get_trials(deepcopy=False, states=[TrialState.PRUNED])\n",
        "complete_trials = study.get_trials(deepcopy=False, states=[TrialState.COMPLETE])\n",
        "\n",
        "print(\"Study statistics: \")\n",
        "print(\"  Number of finished trials: \", len(study.trials))\n",
        "print(\"  Number of pruned trials: \", len(pruned_trials))\n",
        "print(\"  Number of complete trials: \", len(complete_trials))\n",
        "\n",
        "print(\"Best trial:\")\n",
        "trial = study.best_trial\n",
        "\n",
        "print(\"  Value: \", trial.value)\n",
        "\n",
        "print(\"  Params: \")\n",
        "for key, value in trial.params.items():\n",
        "    print(\"    {}: {}\".format(key, value))"
      ]
    },
    {
      "cell_type": "code",
      "execution_count": null,
      "metadata": {
        "id": "Q4z7u40vFNo9"
      },
      "outputs": [],
      "source": []
    }
  ],
  "metadata": {
    "accelerator": "GPU",
    "colab": {
      "collapsed_sections": [],
      "machine_shape": "hm",
      "name": "PytorchImageModelsOptuna.ipynb",
      "provenance": []
    },
    "gpuClass": "standard",
    "kernelspec": {
      "display_name": "Python 3.7.13 ('work')",
      "language": "python",
      "name": "python3"
    },
    "language_info": {
      "name": "python",
      "version": "3.7.13"
    },
    "vscode": {
      "interpreter": {
        "hash": "6e51fef59ada9ce62a442d7297f9fef1103f1123f1c1d2738b0b3396f43137e7"
      }
    }
  },
  "nbformat": 4,
  "nbformat_minor": 0
}
