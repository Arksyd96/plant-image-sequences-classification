{
 "cells": [
  {
   "cell_type": "code",
   "execution_count": null,
   "metadata": {},
   "outputs": [],
   "source": [
    "from google.colab import drive\n",
    "drive.mount('/content/gdrive')"
   ]
  },
  {
   "cell_type": "markdown",
   "metadata": {},
   "source": [
    "## Imports"
   ]
  },
  {
   "cell_type": "code",
   "execution_count": 5,
   "metadata": {},
   "outputs": [
    {
     "name": "stdout",
     "output_type": "stream",
     "text": [
      "imported\n"
     ]
    }
   ],
   "source": [
    "import numpy as np\n",
    "import os\n",
    "import cv2 as cv\n",
    "import matplotlib.pyplot as plt\n",
    "\n",
    "from easydict import EasyDict as edict\n",
    "from tqdm import tqdm\n",
    "\n",
    "print('imported')"
   ]
  },
  {
   "cell_type": "markdown",
   "metadata": {},
   "source": [
    "## Constants"
   ]
  },
  {
   "cell_type": "code",
   "execution_count": 13,
   "metadata": {},
   "outputs": [
    {
     "name": "stdout",
     "output_type": "stream",
     "text": [
      "Number of classes: 38\n"
     ]
    }
   ],
   "source": [
    "# Important, to have the same repartition of data between different machines\n",
    "np.random.seed(42)\n",
    "\n",
    "# different paths to data: extracted data are images insides folders, weights/ will contain the trained models weights\n",
    "# with the format weight_{backbone_name}_{optimizer_name}\n",
    "# stats/ is for stats (loss, accuracy and else)\n",
    "# npy_data/ is the repo of the data but with .npy format, this helps me to load whole data on the memory\n",
    "# this is important because accessing drive data directly costs lot of time unlike in local machines\n",
    "\n",
    "DATA_DIR = './data/segmented_data/' # path of the root project folder\n",
    "NPZ_DIR = './npz/'\n",
    "\n",
    "if not os.path.exists(NPZ_DIR):\n",
    "    os.mkdir(NPZ_DIR)\n",
    "\n",
    "# getting the list of the classes\n",
    "class_list = os.listdir(DATA_DIR)\n",
    "class_list.sort()\n",
    "print('Number of classes: {}'.format(len(class_list)))\n",
    "\n",
    "# other parameters\n",
    "IMG_SIZE = (512, 512)"
   ]
  },
  {
   "cell_type": "markdown",
   "metadata": {},
   "source": [
    "## Loading data (masks)"
   ]
  },
  {
   "cell_type": "code",
   "execution_count": 15,
   "metadata": {},
   "outputs": [
    {
     "name": "stderr",
     "output_type": "stream",
     "text": [
      "100%|██████████| 364/364 [00:57<00:00,  6.29it/s]\n"
     ]
    },
    {
     "name": "stdout",
     "output_type": "stream",
     "text": [
      "Data saved in npz (compressed) format at ./npz/\n"
     ]
    }
   ],
   "source": [
    "sequences, targets = [], []\n",
    "for class_name in class_list:\n",
    "    class_dir = os.path.join(DATA_DIR, class_name)\n",
    "    sequences.extend([os.path.join(class_dir, rep, 'masks') for rep in os.listdir(class_dir)])\n",
    "    targets.extend([class_name] * len(os.listdir(class_dir)))\n",
    "\n",
    "# saving the data in npy format\n",
    "data = edict()\n",
    "for idx, sequence in enumerate(tqdm(sequences, position=0, leave=True)):\n",
    "    masks = np.zeros((len(os.listdir(sequence)), *IMG_SIZE), dtype=np.uint8)\n",
    "    for i, mask in enumerate(os.listdir(sequence)):\n",
    "        masks[i] = cv.imread(os.path.join(sequence, mask), cv.IMREAD_GRAYSCALE)\n",
    "        masks[i][masks[i] > 0] = 1\n",
    "    \n",
    "    data[sequence] = {'masks': masks, 'target': targets[idx]}\n",
    "\n",
    "np.savez_compressed(NPZ_DIR + 'data.npz', data)\n",
    "print('Data saved in npz (compressed) format at {}'.format(NPZ_DIR))"
   ]
  },
  {
   "cell_type": "markdown",
   "metadata": {},
   "source": [
    "## Extracting features from masks"
   ]
  },
  {
   "cell_type": "code",
   "execution_count": null,
   "metadata": {},
   "outputs": [],
   "source": [
    "extracted_features = edict()\n",
    "\n",
    "for seq_name, sequence in tqdm(data.items()):\n",
    "    for idx, mask in enumerate(sequence['masks']):\n",
    "        "
   ]
  },
  {
   "cell_type": "code",
   "execution_count": null,
   "metadata": {},
   "outputs": [],
   "source": []
  }
 ],
 "metadata": {
  "kernelspec": {
   "display_name": "Python 3.7.13 ('work')",
   "language": "python",
   "name": "python3"
  },
  "language_info": {
   "codemirror_mode": {
    "name": "ipython",
    "version": 3
   },
   "file_extension": ".py",
   "mimetype": "text/x-python",
   "name": "python",
   "nbconvert_exporter": "python",
   "pygments_lexer": "ipython3",
   "version": "3.7.13"
  },
  "orig_nbformat": 4,
  "vscode": {
   "interpreter": {
    "hash": "6e51fef59ada9ce62a442d7297f9fef1103f1123f1c1d2738b0b3396f43137e7"
   }
  }
 },
 "nbformat": 4,
 "nbformat_minor": 2
}
